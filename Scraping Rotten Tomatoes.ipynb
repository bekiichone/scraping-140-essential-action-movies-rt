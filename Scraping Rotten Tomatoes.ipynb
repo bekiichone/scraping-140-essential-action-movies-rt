{
 "cells": [
  {
   "cell_type": "code",
   "execution_count": 76,
   "id": "754d2a63",
   "metadata": {},
   "outputs": [],
   "source": [
    "import requests\n",
    "from bs4 import BeautifulSoup\n",
    "import numpy as np\n",
    "import pandas as pd"
   ]
  },
  {
   "cell_type": "code",
   "execution_count": 2,
   "id": "13fb0fc9",
   "metadata": {},
   "outputs": [],
   "source": [
    "base_site = \"https://editorial.rottentomatoes.com/guide/140-essential-action-movies-to-watch-now/\""
   ]
  },
  {
   "cell_type": "code",
   "execution_count": 3,
   "id": "8b6314b5",
   "metadata": {},
   "outputs": [
    {
     "data": {
      "text/plain": [
       "<Response [200]>"
      ]
     },
     "execution_count": 3,
     "metadata": {},
     "output_type": "execute_result"
    }
   ],
   "source": [
    "# getting response from server\n",
    "response = requests.get(base_site)\n",
    "response"
   ]
  },
  {
   "cell_type": "code",
   "execution_count": 4,
   "id": "ffc2e19b",
   "metadata": {},
   "outputs": [],
   "source": [
    "# extracting html\n",
    "html = response.content"
   ]
  },
  {
   "cell_type": "code",
   "execution_count": 5,
   "id": "707dc892",
   "metadata": {},
   "outputs": [],
   "source": [
    "# loading html parser\n",
    "soup = BeautifulSoup(html, 'lxml')"
   ]
  },
  {
   "cell_type": "code",
   "execution_count": 6,
   "id": "99d8a56c",
   "metadata": {},
   "outputs": [],
   "source": [
    "# saving html for visual analysis of document\n",
    "with open('Rotten_tomatoes_page_2_HTML_Parser.html', 'wb') as file:\n",
    "    file.write(soup.prettify('utf-8'))"
   ]
  },
  {
   "cell_type": "code",
   "execution_count": 83,
   "id": "f377418f",
   "metadata": {},
   "outputs": [],
   "source": [
    "# we have identified class containing movies info\n",
    "divs = soup.find_all('div', {'class': 'col-sm-18 col-full-xs countdown-item-content'})"
   ]
  },
  {
   "cell_type": "code",
   "execution_count": 8,
   "id": "2bc9d17e",
   "metadata": {},
   "outputs": [],
   "source": [
    "# extracting headings which contain movie name, year and score\n",
    "headings = [div.find('h2') for div in divs]"
   ]
  },
  {
   "cell_type": "code",
   "execution_count": 9,
   "id": "5485bd65",
   "metadata": {},
   "outputs": [],
   "source": [
    "# extracing movie names\n",
    "movie_names = [heading.find('a').string for heading in headings]"
   ]
  },
  {
   "cell_type": "code",
   "execution_count": 10,
   "id": "c48b8c9c",
   "metadata": {},
   "outputs": [],
   "source": [
    "# extracting year of release\n",
    "years = [int(heading.find('span', class_='start-year').string.strip('()')) for heading in headings]"
   ]
  },
  {
   "cell_type": "code",
   "execution_count": 11,
   "id": "0fcaf974",
   "metadata": {},
   "outputs": [],
   "source": [
    "# movie score\n",
    "scores = [int(heading.find('span', class_='tMeterScore').string.strip('%')) for heading in headings]"
   ]
  },
  {
   "cell_type": "code",
   "execution_count": 15,
   "id": "d9fb0d7c",
   "metadata": {},
   "outputs": [],
   "source": [
    "# movie rank\n",
    "ranks = [int(div.find('div', class_='countdown-index').string.strip('#')) for div in divs]"
   ]
  },
  {
   "cell_type": "code",
   "execution_count": 40,
   "id": "8cc42be3",
   "metadata": {},
   "outputs": [],
   "source": [
    "# movie consensus (excluding common_text)\n",
    "common_text = 'Critics Consensus: '\n",
    "consensus = [div.find('div', class_='info critics-consensus').text[len(common_text):] for div in divs]"
   ]
  },
  {
   "cell_type": "code",
   "execution_count": 51,
   "id": "cc364aa1",
   "metadata": {},
   "outputs": [],
   "source": [
    "# movie directors\n",
    "directors = [div.find('div', class_='info director').contents[3].text for div in divs]"
   ]
  },
  {
   "cell_type": "code",
   "execution_count": 59,
   "id": "d4193b2b",
   "metadata": {},
   "outputs": [],
   "source": [
    "# movie cast\n",
    "cast_names = [\", \".join([j.string for j in div.find('div', class_='info cast').find_all('a')]) for div in divs]"
   ]
  },
  {
   "cell_type": "code",
   "execution_count": 69,
   "id": "ce50836e",
   "metadata": {},
   "outputs": [],
   "source": [
    "# more accurate score (it is not displayed on webpage but contained in html)\n",
    "adjusted_scores = [float(div.find('div', class_='info countdown-adjusted-score').contents[1].strip('% '))/1000 for div in divs]"
   ]
  },
  {
   "cell_type": "code",
   "execution_count": 74,
   "id": "00418861",
   "metadata": {},
   "outputs": [],
   "source": [
    "# movie synopsis (it contains only partial info). To extract more info, one have to go through all \"More\" links \n",
    "synopsis = [div.find('div', class_='info synopsis').contents[1].strip() for div in divs]"
   ]
  },
  {
   "cell_type": "markdown",
   "id": "54584117",
   "metadata": {},
   "source": [
    "# Organize in pandas"
   ]
  },
  {
   "cell_type": "code",
   "execution_count": 122,
   "id": "1a3e90b8",
   "metadata": {},
   "outputs": [],
   "source": [
    "movies_df = pd.DataFrame([])\n",
    "movies_df['Title'] = movie_names\n",
    "movies_df['Year'] = years\n",
    "movies_df['Score'] = scores\n",
    "movies_df['Adjusted Score'] = adjusted_scores\n",
    "movies_df['Rank'] = ranks\n",
    "movies_df['Consensus'] = consensus\n",
    "movies_df['Directors'] = directors\n",
    "movies_df['Cast'] = cast_names\n",
    "movies_df['Synopsis'] = synopsis"
   ]
  },
  {
   "cell_type": "code",
   "execution_count": 123,
   "id": "1a5c1522",
   "metadata": {
    "scrolled": false
   },
   "outputs": [
    {
     "data": {
      "text/html": [
       "<div>\n",
       "<style scoped>\n",
       "    .dataframe tbody tr th:only-of-type {\n",
       "        vertical-align: middle;\n",
       "    }\n",
       "\n",
       "    .dataframe tbody tr th {\n",
       "        vertical-align: top;\n",
       "    }\n",
       "\n",
       "    .dataframe thead th {\n",
       "        text-align: right;\n",
       "    }\n",
       "</style>\n",
       "<table border=\"1\" class=\"dataframe\">\n",
       "  <thead>\n",
       "    <tr style=\"text-align: right;\">\n",
       "      <th></th>\n",
       "      <th>Title</th>\n",
       "      <th>Year</th>\n",
       "      <th>Score</th>\n",
       "      <th>Adjusted Score</th>\n",
       "      <th>Rank</th>\n",
       "      <th>Consensus</th>\n",
       "      <th>Directors</th>\n",
       "      <th>Cast</th>\n",
       "      <th>Synopsis</th>\n",
       "    </tr>\n",
       "  </thead>\n",
       "  <tbody>\n",
       "    <tr>\n",
       "      <th>0</th>\n",
       "      <td>Running Scared</td>\n",
       "      <td>1986</td>\n",
       "      <td>59</td>\n",
       "      <td>59.009</td>\n",
       "      <td>140</td>\n",
       "      <td>Running Scared struggles to strike a consisten...</td>\n",
       "      <td>Peter Hyams</td>\n",
       "      <td>Gregory Hines, Billy Crystal, Jimmy Smits, Ste...</td>\n",
       "      <td>Ray and Danny (Gregory Hines, Billy Crystal) a...</td>\n",
       "    </tr>\n",
       "    <tr>\n",
       "      <th>1</th>\n",
       "      <td>Equilibrium</td>\n",
       "      <td>2002</td>\n",
       "      <td>41</td>\n",
       "      <td>42.592</td>\n",
       "      <td>139</td>\n",
       "      <td>Equilibrium is a reheated mishmash of other sc...</td>\n",
       "      <td>Kurt Wimmer</td>\n",
       "      <td>Christian Bale, Emily Watson, Taye Diggs, Angu...</td>\n",
       "      <td>In a futuristic world, a regime has eliminated...</td>\n",
       "    </tr>\n",
       "    <tr>\n",
       "      <th>2</th>\n",
       "      <td>Hero</td>\n",
       "      <td>2002</td>\n",
       "      <td>94</td>\n",
       "      <td>102.657</td>\n",
       "      <td>138</td>\n",
       "      <td>With death-defying action sequences and epic h...</td>\n",
       "      <td>Zhang Yimou</td>\n",
       "      <td>Jet Li, Tony Leung Chiu Wai, Maggie Cheung Man...</td>\n",
       "      <td>In this visually arresting martial arts epic s...</td>\n",
       "    </tr>\n",
       "    <tr>\n",
       "      <th>3</th>\n",
       "      <td>Road House</td>\n",
       "      <td>1989</td>\n",
       "      <td>37</td>\n",
       "      <td>40.014</td>\n",
       "      <td>137</td>\n",
       "      <td>Whether Road House is simply bad or so bad it'...</td>\n",
       "      <td>Rowdy Herrington</td>\n",
       "      <td>Patrick Swayze, Kelly Lynch, Sam Elliott, Ben ...</td>\n",
       "      <td>The Double Deuce is the meanest, loudest and r...</td>\n",
       "    </tr>\n",
       "    <tr>\n",
       "      <th>4</th>\n",
       "      <td>Unstoppable</td>\n",
       "      <td>2010</td>\n",
       "      <td>87</td>\n",
       "      <td>93.760</td>\n",
       "      <td>136</td>\n",
       "      <td>As fast, loud, and relentless as the train at ...</td>\n",
       "      <td>Tony Scott</td>\n",
       "      <td>Denzel Washington, Chris Pine, Rosario Dawson,...</td>\n",
       "      <td>When a massive, unmanned locomotive roars out ...</td>\n",
       "    </tr>\n",
       "    <tr>\n",
       "      <th>...</th>\n",
       "      <td>...</td>\n",
       "      <td>...</td>\n",
       "      <td>...</td>\n",
       "      <td>...</td>\n",
       "      <td>...</td>\n",
       "      <td>...</td>\n",
       "      <td>...</td>\n",
       "      <td>...</td>\n",
       "      <td>...</td>\n",
       "    </tr>\n",
       "    <tr>\n",
       "      <th>135</th>\n",
       "      <td>Hard-Boiled</td>\n",
       "      <td>1992</td>\n",
       "      <td>94</td>\n",
       "      <td>96.404</td>\n",
       "      <td>5</td>\n",
       "      <td>Boasting impactful action as well as surprisin...</td>\n",
       "      <td>John Woo</td>\n",
       "      <td>Chow Yun-Fat, Bowie Lam, Philip Chan, Tony Leu...</td>\n",
       "      <td>A cop who loses his partner in a shoot-out wit...</td>\n",
       "    </tr>\n",
       "    <tr>\n",
       "      <th>136</th>\n",
       "      <td>The Matrix</td>\n",
       "      <td>1999</td>\n",
       "      <td>88</td>\n",
       "      <td>94.964</td>\n",
       "      <td>4</td>\n",
       "      <td>Thanks to the Wachowskis' imaginative vision, ...</td>\n",
       "      <td>Andy Wachowski</td>\n",
       "      <td>Keanu Reeves, Laurence Fishburne, Carrie-Anne ...</td>\n",
       "      <td>Neo (Keanu Reeves) believes that Morpheus (Lau...</td>\n",
       "    </tr>\n",
       "    <tr>\n",
       "      <th>137</th>\n",
       "      <td>Terminator 2: Judgment Day</td>\n",
       "      <td>1991</td>\n",
       "      <td>93</td>\n",
       "      <td>98.085</td>\n",
       "      <td>3</td>\n",
       "      <td>T2 features thrilling action sequences and eye...</td>\n",
       "      <td>James Cameron</td>\n",
       "      <td>Arnold Schwarzenegger, Linda Hamilton, Edward ...</td>\n",
       "      <td>In this sequel set eleven years after \"The Ter...</td>\n",
       "    </tr>\n",
       "    <tr>\n",
       "      <th>138</th>\n",
       "      <td>Die Hard</td>\n",
       "      <td>1988</td>\n",
       "      <td>94</td>\n",
       "      <td>99.802</td>\n",
       "      <td>2</td>\n",
       "      <td>Its many imitators (and sequels) have never co...</td>\n",
       "      <td>John McTiernan</td>\n",
       "      <td>Bruce Willis, Alan Rickman, Bonnie Bedelia, Re...</td>\n",
       "      <td>New York City policeman John McClane (Bruce Wi...</td>\n",
       "    </tr>\n",
       "    <tr>\n",
       "      <th>139</th>\n",
       "      <td>Mad Max: Fury Road</td>\n",
       "      <td>2015</td>\n",
       "      <td>97</td>\n",
       "      <td>114.961</td>\n",
       "      <td>1</td>\n",
       "      <td>With exhilarating action and a surprising amou...</td>\n",
       "      <td>George Miller</td>\n",
       "      <td>Tom Hardy, Charlize Theron, Nicholas Hoult, Hu...</td>\n",
       "      <td>Years after the collapse of civilization, the ...</td>\n",
       "    </tr>\n",
       "  </tbody>\n",
       "</table>\n",
       "<p>140 rows × 9 columns</p>\n",
       "</div>"
      ],
      "text/plain": [
       "                          Title  Year  Score  Adjusted Score  Rank  \\\n",
       "0                Running Scared  1986     59          59.009   140   \n",
       "1                   Equilibrium  2002     41          42.592   139   \n",
       "2                          Hero  2002     94         102.657   138   \n",
       "3                    Road House  1989     37          40.014   137   \n",
       "4                   Unstoppable  2010     87          93.760   136   \n",
       "..                          ...   ...    ...             ...   ...   \n",
       "135                 Hard-Boiled  1992     94          96.404     5   \n",
       "136                  The Matrix  1999     88          94.964     4   \n",
       "137  Terminator 2: Judgment Day  1991     93          98.085     3   \n",
       "138                    Die Hard  1988     94          99.802     2   \n",
       "139          Mad Max: Fury Road  2015     97         114.961     1   \n",
       "\n",
       "                                             Consensus         Directors  \\\n",
       "0    Running Scared struggles to strike a consisten...       Peter Hyams   \n",
       "1    Equilibrium is a reheated mishmash of other sc...       Kurt Wimmer   \n",
       "2    With death-defying action sequences and epic h...       Zhang Yimou   \n",
       "3    Whether Road House is simply bad or so bad it'...  Rowdy Herrington   \n",
       "4    As fast, loud, and relentless as the train at ...        Tony Scott   \n",
       "..                                                 ...               ...   \n",
       "135  Boasting impactful action as well as surprisin...          John Woo   \n",
       "136  Thanks to the Wachowskis' imaginative vision, ...    Andy Wachowski   \n",
       "137  T2 features thrilling action sequences and eye...     James Cameron   \n",
       "138  Its many imitators (and sequels) have never co...    John McTiernan   \n",
       "139  With exhilarating action and a surprising amou...     George Miller   \n",
       "\n",
       "                                                  Cast  \\\n",
       "0    Gregory Hines, Billy Crystal, Jimmy Smits, Ste...   \n",
       "1    Christian Bale, Emily Watson, Taye Diggs, Angu...   \n",
       "2    Jet Li, Tony Leung Chiu Wai, Maggie Cheung Man...   \n",
       "3    Patrick Swayze, Kelly Lynch, Sam Elliott, Ben ...   \n",
       "4    Denzel Washington, Chris Pine, Rosario Dawson,...   \n",
       "..                                                 ...   \n",
       "135  Chow Yun-Fat, Bowie Lam, Philip Chan, Tony Leu...   \n",
       "136  Keanu Reeves, Laurence Fishburne, Carrie-Anne ...   \n",
       "137  Arnold Schwarzenegger, Linda Hamilton, Edward ...   \n",
       "138  Bruce Willis, Alan Rickman, Bonnie Bedelia, Re...   \n",
       "139  Tom Hardy, Charlize Theron, Nicholas Hoult, Hu...   \n",
       "\n",
       "                                              Synopsis  \n",
       "0    Ray and Danny (Gregory Hines, Billy Crystal) a...  \n",
       "1    In a futuristic world, a regime has eliminated...  \n",
       "2    In this visually arresting martial arts epic s...  \n",
       "3    The Double Deuce is the meanest, loudest and r...  \n",
       "4    When a massive, unmanned locomotive roars out ...  \n",
       "..                                                 ...  \n",
       "135  A cop who loses his partner in a shoot-out wit...  \n",
       "136  Neo (Keanu Reeves) believes that Morpheus (Lau...  \n",
       "137  In this sequel set eleven years after \"The Ter...  \n",
       "138  New York City policeman John McClane (Bruce Wi...  \n",
       "139  Years after the collapse of civilization, the ...  \n",
       "\n",
       "[140 rows x 9 columns]"
      ]
     },
     "execution_count": 123,
     "metadata": {},
     "output_type": "execute_result"
    }
   ],
   "source": [
    "movies_df"
   ]
  },
  {
   "cell_type": "markdown",
   "id": "f6b7c10c",
   "metadata": {},
   "source": [
    "# Export"
   ]
  },
  {
   "cell_type": "code",
   "execution_count": 124,
   "id": "40fa08ee",
   "metadata": {},
   "outputs": [],
   "source": [
    "movies_df.to_csv('140_essential_action_movies.csv', index=False, header=True)\n",
    "movies_df.to_excel('140_essential_action_movies.xlsx', index=False, header=True)"
   ]
  },
  {
   "cell_type": "markdown",
   "id": "ce5e5d08",
   "metadata": {},
   "source": [
    "# EDA"
   ]
  },
  {
   "cell_type": "code",
   "execution_count": 106,
   "id": "03306061",
   "metadata": {},
   "outputs": [],
   "source": [
    "import seaborn as sns\n",
    "import matplotlib.pyplot as plt"
   ]
  },
  {
   "cell_type": "code",
   "execution_count": 125,
   "id": "3b156683",
   "metadata": {},
   "outputs": [
    {
     "data": {
      "text/html": [
       "<div>\n",
       "<style scoped>\n",
       "    .dataframe tbody tr th:only-of-type {\n",
       "        vertical-align: middle;\n",
       "    }\n",
       "\n",
       "    .dataframe tbody tr th {\n",
       "        vertical-align: top;\n",
       "    }\n",
       "\n",
       "    .dataframe thead th {\n",
       "        text-align: right;\n",
       "    }\n",
       "</style>\n",
       "<table border=\"1\" class=\"dataframe\">\n",
       "  <thead>\n",
       "    <tr style=\"text-align: right;\">\n",
       "      <th></th>\n",
       "      <th>Title</th>\n",
       "      <th>Year</th>\n",
       "      <th>Score</th>\n",
       "      <th>Adjusted Score</th>\n",
       "      <th>Rank</th>\n",
       "      <th>Consensus</th>\n",
       "      <th>Directors</th>\n",
       "      <th>Cast</th>\n",
       "      <th>Synopsis</th>\n",
       "    </tr>\n",
       "  </thead>\n",
       "  <tbody>\n",
       "    <tr>\n",
       "      <th>0</th>\n",
       "      <td>Running Scared</td>\n",
       "      <td>1986</td>\n",
       "      <td>59</td>\n",
       "      <td>59.009</td>\n",
       "      <td>140</td>\n",
       "      <td>Running Scared struggles to strike a consisten...</td>\n",
       "      <td>Peter Hyams</td>\n",
       "      <td>Gregory Hines, Billy Crystal, Jimmy Smits, Ste...</td>\n",
       "      <td>Ray and Danny (Gregory Hines, Billy Crystal) a...</td>\n",
       "    </tr>\n",
       "    <tr>\n",
       "      <th>1</th>\n",
       "      <td>Equilibrium</td>\n",
       "      <td>2002</td>\n",
       "      <td>41</td>\n",
       "      <td>42.592</td>\n",
       "      <td>139</td>\n",
       "      <td>Equilibrium is a reheated mishmash of other sc...</td>\n",
       "      <td>Kurt Wimmer</td>\n",
       "      <td>Christian Bale, Emily Watson, Taye Diggs, Angu...</td>\n",
       "      <td>In a futuristic world, a regime has eliminated...</td>\n",
       "    </tr>\n",
       "    <tr>\n",
       "      <th>2</th>\n",
       "      <td>Hero</td>\n",
       "      <td>2002</td>\n",
       "      <td>94</td>\n",
       "      <td>102.657</td>\n",
       "      <td>138</td>\n",
       "      <td>With death-defying action sequences and epic h...</td>\n",
       "      <td>Zhang Yimou</td>\n",
       "      <td>Jet Li, Tony Leung Chiu Wai, Maggie Cheung Man...</td>\n",
       "      <td>In this visually arresting martial arts epic s...</td>\n",
       "    </tr>\n",
       "    <tr>\n",
       "      <th>3</th>\n",
       "      <td>Road House</td>\n",
       "      <td>1989</td>\n",
       "      <td>37</td>\n",
       "      <td>40.014</td>\n",
       "      <td>137</td>\n",
       "      <td>Whether Road House is simply bad or so bad it'...</td>\n",
       "      <td>Rowdy Herrington</td>\n",
       "      <td>Patrick Swayze, Kelly Lynch, Sam Elliott, Ben ...</td>\n",
       "      <td>The Double Deuce is the meanest, loudest and r...</td>\n",
       "    </tr>\n",
       "    <tr>\n",
       "      <th>4</th>\n",
       "      <td>Unstoppable</td>\n",
       "      <td>2010</td>\n",
       "      <td>87</td>\n",
       "      <td>93.760</td>\n",
       "      <td>136</td>\n",
       "      <td>As fast, loud, and relentless as the train at ...</td>\n",
       "      <td>Tony Scott</td>\n",
       "      <td>Denzel Washington, Chris Pine, Rosario Dawson,...</td>\n",
       "      <td>When a massive, unmanned locomotive roars out ...</td>\n",
       "    </tr>\n",
       "  </tbody>\n",
       "</table>\n",
       "</div>"
      ],
      "text/plain": [
       "            Title  Year  Score  Adjusted Score  Rank  \\\n",
       "0  Running Scared  1986     59          59.009   140   \n",
       "1     Equilibrium  2002     41          42.592   139   \n",
       "2            Hero  2002     94         102.657   138   \n",
       "3      Road House  1989     37          40.014   137   \n",
       "4     Unstoppable  2010     87          93.760   136   \n",
       "\n",
       "                                           Consensus         Directors  \\\n",
       "0  Running Scared struggles to strike a consisten...       Peter Hyams   \n",
       "1  Equilibrium is a reheated mishmash of other sc...       Kurt Wimmer   \n",
       "2  With death-defying action sequences and epic h...       Zhang Yimou   \n",
       "3  Whether Road House is simply bad or so bad it'...  Rowdy Herrington   \n",
       "4  As fast, loud, and relentless as the train at ...        Tony Scott   \n",
       "\n",
       "                                                Cast  \\\n",
       "0  Gregory Hines, Billy Crystal, Jimmy Smits, Ste...   \n",
       "1  Christian Bale, Emily Watson, Taye Diggs, Angu...   \n",
       "2  Jet Li, Tony Leung Chiu Wai, Maggie Cheung Man...   \n",
       "3  Patrick Swayze, Kelly Lynch, Sam Elliott, Ben ...   \n",
       "4  Denzel Washington, Chris Pine, Rosario Dawson,...   \n",
       "\n",
       "                                            Synopsis  \n",
       "0  Ray and Danny (Gregory Hines, Billy Crystal) a...  \n",
       "1  In a futuristic world, a regime has eliminated...  \n",
       "2  In this visually arresting martial arts epic s...  \n",
       "3  The Double Deuce is the meanest, loudest and r...  \n",
       "4  When a massive, unmanned locomotive roars out ...  "
      ]
     },
     "execution_count": 125,
     "metadata": {},
     "output_type": "execute_result"
    }
   ],
   "source": [
    "movies_df.head()"
   ]
  },
  {
   "cell_type": "code",
   "execution_count": 89,
   "id": "cd4524b0",
   "metadata": {},
   "outputs": [
    {
     "data": {
      "image/png": "[encoded data removed]",
      "text/plain": [
       "<Figure size 360x360 with 1 Axes>"
      ]
     },
     "metadata": {
      "needs_background": "light"
     },
     "output_type": "display_data"
    }
   ],
   "source": [
    "sns.displot(movies_df.Year);"
   ]
  },
  {
   "cell_type": "markdown",
   "id": "940f76a9",
   "metadata": {},
   "source": [
    "    Majority of action movies are filmed after 1980, which probably related with rapid improvement in filming and CGI technologies"
   ]
  },
  {
   "cell_type": "code",
   "execution_count": 91,
   "id": "35f5882a",
   "metadata": {},
   "outputs": [
    {
     "data": {
      "image/png": "[encoded data removed]",
      "text/plain": [
       "<Figure size 360x360 with 1 Axes>"
      ]
     },
     "metadata": {
      "needs_background": "light"
     },
     "output_type": "display_data"
    }
   ],
   "source": [
    "sns.displot(movies_df.Score);"
   ]
  },
  {
   "cell_type": "code",
   "execution_count": 99,
   "id": "5836176e",
   "metadata": {},
   "outputs": [
    {
     "data": {
      "image/png": "[encoded data removed]",
      "text/plain": [
       "<Figure size 432x288 with 1 Axes>"
      ]
     },
     "metadata": {
      "needs_background": "light"
     },
     "output_type": "display_data"
    }
   ],
   "source": [
    "movies_df.plot.scatter(x='Rank', y='Score');"
   ]
  },
  {
   "cell_type": "code",
   "execution_count": 101,
   "id": "f7a7c585",
   "metadata": {},
   "outputs": [
    {
     "data": {
      "text/plain": [
       "array([[ 1.        , -0.56829853],\n",
       "       [-0.56829853,  1.        ]])"
      ]
     },
     "execution_count": 101,
     "metadata": {},
     "output_type": "execute_result"
    }
   ],
   "source": [
    "np.corrcoef(movies_df.Score, movies_df.Rank)"
   ]
  },
  {
   "cell_type": "markdown",
   "id": "b28c2d99",
   "metadata": {},
   "source": [
    "    One may hypothesise that film rank should be correlated with its score. However, from scatter plot above you can notice that its not. Same is proven by correlation coefficient. Nevertheless, one can notice that movies above 60s rank did not scored lower than 60, compared to movies below 60s rank. "
   ]
  },
  {
   "cell_type": "code",
   "execution_count": 120,
   "id": "816d9425",
   "metadata": {},
   "outputs": [
    {
     "data": {
      "image/png": "[encoded data removed]",
      "text/plain": [
       "<Figure size 432x288 with 1 Axes>"
      ]
     },
     "metadata": {
      "needs_background": "light"
     },
     "output_type": "display_data"
    }
   ],
   "source": [
    "movies_df.plot.scatter('Year', 'Rank');"
   ]
  },
  {
   "cell_type": "code",
   "execution_count": 121,
   "id": "c5473d27",
   "metadata": {},
   "outputs": [
    {
     "data": {
      "image/png": "[encoded data removed]",
      "text/plain": [
       "<Figure size 432x288 with 1 Axes>"
      ]
     },
     "metadata": {
      "needs_background": "light"
     },
     "output_type": "display_data"
    }
   ],
   "source": [
    "movies_df.plot.scatter('Year', 'Score');"
   ]
  },
  {
   "cell_type": "markdown",
   "id": "0e78cd03",
   "metadata": {},
   "source": [
    "    Movies between 60s and 90s are not below 80 score. Probably, during selection only top movies of older generation were selected."
   ]
  },
  {
   "cell_type": "code",
   "execution_count": 147,
   "id": "e7ed1988",
   "metadata": {},
   "outputs": [
    {
     "data": {
      "text/html": [
       "<div>\n",
       "<style scoped>\n",
       "    .dataframe tbody tr th:only-of-type {\n",
       "        vertical-align: middle;\n",
       "    }\n",
       "\n",
       "    .dataframe tbody tr th {\n",
       "        vertical-align: top;\n",
       "    }\n",
       "\n",
       "    .dataframe thead th {\n",
       "        text-align: right;\n",
       "    }\n",
       "</style>\n",
       "<table border=\"1\" class=\"dataframe\">\n",
       "  <thead>\n",
       "    <tr style=\"text-align: right;\">\n",
       "      <th></th>\n",
       "      <th>Score</th>\n",
       "      <th>Title</th>\n",
       "    </tr>\n",
       "    <tr>\n",
       "      <th>Directors</th>\n",
       "      <th></th>\n",
       "      <th></th>\n",
       "    </tr>\n",
       "  </thead>\n",
       "  <tbody>\n",
       "    <tr>\n",
       "      <th>John Woo</th>\n",
       "      <td>94.250000</td>\n",
       "      <td>4</td>\n",
       "    </tr>\n",
       "    <tr>\n",
       "      <th>James Cameron</th>\n",
       "      <td>89.750000</td>\n",
       "      <td>4</td>\n",
       "    </tr>\n",
       "    <tr>\n",
       "      <th>John Carpenter</th>\n",
       "      <td>85.000000</td>\n",
       "      <td>4</td>\n",
       "    </tr>\n",
       "    <tr>\n",
       "      <th>Anthony Russo</th>\n",
       "      <td>91.333333</td>\n",
       "      <td>3</td>\n",
       "    </tr>\n",
       "    <tr>\n",
       "      <th>Steven Spielberg</th>\n",
       "      <td>91.000000</td>\n",
       "      <td>3</td>\n",
       "    </tr>\n",
       "  </tbody>\n",
       "</table>\n",
       "</div>"
      ],
      "text/plain": [
       "                      Score  Title\n",
       "Directors                         \n",
       "John Woo          94.250000      4\n",
       "James Cameron     89.750000      4\n",
       "John Carpenter    85.000000      4\n",
       "Anthony Russo     91.333333      3\n",
       "Steven Spielberg  91.000000      3"
      ]
     },
     "execution_count": 147,
     "metadata": {},
     "output_type": "execute_result"
    }
   ],
   "source": [
    "# Top 5 Directors\n",
    "top_5_directors = movies_df.groupby('Directors').agg({'Score':'mean', 'Title':'count'}).sort_values(['Title', 'Score'], ascending=False).head(5)\n",
    "top_5_directors"
   ]
  },
  {
   "cell_type": "code",
   "execution_count": 163,
   "id": "b8a5d85e",
   "metadata": {},
   "outputs": [
    {
     "data": {
      "text/html": [
       "<div>\n",
       "<style scoped>\n",
       "    .dataframe tbody tr th:only-of-type {\n",
       "        vertical-align: middle;\n",
       "    }\n",
       "\n",
       "    .dataframe tbody tr th {\n",
       "        vertical-align: top;\n",
       "    }\n",
       "\n",
       "    .dataframe thead th {\n",
       "        text-align: right;\n",
       "    }\n",
       "</style>\n",
       "<table border=\"1\" class=\"dataframe\">\n",
       "  <thead>\n",
       "    <tr style=\"text-align: right;\">\n",
       "      <th></th>\n",
       "      <th>Directors</th>\n",
       "      <th>Title</th>\n",
       "      <th>Year</th>\n",
       "      <th>Score</th>\n",
       "      <th>Rank</th>\n",
       "    </tr>\n",
       "  </thead>\n",
       "  <tbody>\n",
       "    <tr>\n",
       "      <th>2</th>\n",
       "      <td>Anthony Russo</td>\n",
       "      <td>Avengers: Endgame</td>\n",
       "      <td>2019</td>\n",
       "      <td>94</td>\n",
       "      <td>44</td>\n",
       "    </tr>\n",
       "    <tr>\n",
       "      <th>0</th>\n",
       "      <td>Anthony Russo</td>\n",
       "      <td>Captain America: Civil War</td>\n",
       "      <td>2016</td>\n",
       "      <td>90</td>\n",
       "      <td>119</td>\n",
       "    </tr>\n",
       "    <tr>\n",
       "      <th>1</th>\n",
       "      <td>Anthony Russo</td>\n",
       "      <td>Captain America: The Winter Soldier</td>\n",
       "      <td>2014</td>\n",
       "      <td>90</td>\n",
       "      <td>58</td>\n",
       "    </tr>\n",
       "    <tr>\n",
       "      <th>8</th>\n",
       "      <td>James Cameron</td>\n",
       "      <td>The Terminator</td>\n",
       "      <td>1984</td>\n",
       "      <td>100</td>\n",
       "      <td>22</td>\n",
       "    </tr>\n",
       "    <tr>\n",
       "      <th>9</th>\n",
       "      <td>James Cameron</td>\n",
       "      <td>Aliens</td>\n",
       "      <td>1986</td>\n",
       "      <td>97</td>\n",
       "      <td>6</td>\n",
       "    </tr>\n",
       "    <tr>\n",
       "      <th>10</th>\n",
       "      <td>James Cameron</td>\n",
       "      <td>Terminator 2: Judgment Day</td>\n",
       "      <td>1991</td>\n",
       "      <td>93</td>\n",
       "      <td>3</td>\n",
       "    </tr>\n",
       "    <tr>\n",
       "      <th>7</th>\n",
       "      <td>James Cameron</td>\n",
       "      <td>True Lies</td>\n",
       "      <td>1994</td>\n",
       "      <td>69</td>\n",
       "      <td>88</td>\n",
       "    </tr>\n",
       "    <tr>\n",
       "      <th>6</th>\n",
       "      <td>John Carpenter</td>\n",
       "      <td>Assault on Precinct 13</td>\n",
       "      <td>1976</td>\n",
       "      <td>95</td>\n",
       "      <td>61</td>\n",
       "    </tr>\n",
       "    <tr>\n",
       "      <th>3</th>\n",
       "      <td>John Carpenter</td>\n",
       "      <td>They Live</td>\n",
       "      <td>1988</td>\n",
       "      <td>85</td>\n",
       "      <td>100</td>\n",
       "    </tr>\n",
       "    <tr>\n",
       "      <th>5</th>\n",
       "      <td>John Carpenter</td>\n",
       "      <td>Escape From New York</td>\n",
       "      <td>1981</td>\n",
       "      <td>85</td>\n",
       "      <td>73</td>\n",
       "    </tr>\n",
       "    <tr>\n",
       "      <th>4</th>\n",
       "      <td>John Carpenter</td>\n",
       "      <td>Big Trouble in Little China</td>\n",
       "      <td>1986</td>\n",
       "      <td>75</td>\n",
       "      <td>81</td>\n",
       "    </tr>\n",
       "    <tr>\n",
       "      <th>16</th>\n",
       "      <td>John Woo</td>\n",
       "      <td>The Killer</td>\n",
       "      <td>1989</td>\n",
       "      <td>98</td>\n",
       "      <td>28</td>\n",
       "    </tr>\n",
       "    <tr>\n",
       "      <th>17</th>\n",
       "      <td>John Woo</td>\n",
       "      <td>Hard-Boiled</td>\n",
       "      <td>1992</td>\n",
       "      <td>94</td>\n",
       "      <td>5</td>\n",
       "    </tr>\n",
       "    <tr>\n",
       "      <th>14</th>\n",
       "      <td>John Woo</td>\n",
       "      <td>A Better Tomorrow</td>\n",
       "      <td>1986</td>\n",
       "      <td>93</td>\n",
       "      <td>66</td>\n",
       "    </tr>\n",
       "    <tr>\n",
       "      <th>15</th>\n",
       "      <td>John Woo</td>\n",
       "      <td>Face/Off</td>\n",
       "      <td>1997</td>\n",
       "      <td>92</td>\n",
       "      <td>40</td>\n",
       "    </tr>\n",
       "    <tr>\n",
       "      <th>13</th>\n",
       "      <td>Steven Spielberg</td>\n",
       "      <td>Raiders of the Lost Ark</td>\n",
       "      <td>1981</td>\n",
       "      <td>95</td>\n",
       "      <td>7</td>\n",
       "    </tr>\n",
       "    <tr>\n",
       "      <th>12</th>\n",
       "      <td>Steven Spielberg</td>\n",
       "      <td>Minority Report</td>\n",
       "      <td>2002</td>\n",
       "      <td>90</td>\n",
       "      <td>45</td>\n",
       "    </tr>\n",
       "    <tr>\n",
       "      <th>11</th>\n",
       "      <td>Steven Spielberg</td>\n",
       "      <td>Indiana Jones and the Last Crusade</td>\n",
       "      <td>1989</td>\n",
       "      <td>88</td>\n",
       "      <td>68</td>\n",
       "    </tr>\n",
       "  </tbody>\n",
       "</table>\n",
       "</div>"
      ],
      "text/plain": [
       "           Directors                                Title  Year  Score  Rank\n",
       "2      Anthony Russo                    Avengers: Endgame  2019     94    44\n",
       "0      Anthony Russo           Captain America: Civil War  2016     90   119\n",
       "1      Anthony Russo  Captain America: The Winter Soldier  2014     90    58\n",
       "8      James Cameron                       The Terminator  1984    100    22\n",
       "9      James Cameron                               Aliens  1986     97     6\n",
       "10     James Cameron           Terminator 2: Judgment Day  1991     93     3\n",
       "7      James Cameron                            True Lies  1994     69    88\n",
       "6     John Carpenter               Assault on Precinct 13  1976     95    61\n",
       "3     John Carpenter                            They Live  1988     85   100\n",
       "5     John Carpenter                 Escape From New York  1981     85    73\n",
       "4     John Carpenter          Big Trouble in Little China  1986     75    81\n",
       "16          John Woo                           The Killer  1989     98    28\n",
       "17          John Woo                          Hard-Boiled  1992     94     5\n",
       "14          John Woo                    A Better Tomorrow  1986     93    66\n",
       "15          John Woo                             Face/Off  1997     92    40\n",
       "13  Steven Spielberg              Raiders of the Lost Ark  1981     95     7\n",
       "12  Steven Spielberg                      Minority Report  2002     90    45\n",
       "11  Steven Spielberg   Indiana Jones and the Last Crusade  1989     88    68"
      ]
     },
     "execution_count": 163,
     "metadata": {},
     "output_type": "execute_result"
    }
   ],
   "source": [
    "# Top 5 Directors' movies\n",
    "top_5_directors_movies = movies_df.merge(top_5_directors.reset_index()[['Directors']], on='Directors')[['Directors', 'Title', 'Year', 'Score', 'Rank']]\n",
    "top_5_directors_movies.sort_values(['Directors', 'Score'], ascending=[True, False])"
   ]
  }
 ],
 "metadata": {
  "kernelspec": {
   "display_name": "Python 3 (ipykernel)",
   "language": "python",
   "name": "python3"
  },
  "language_info": {
   "codemirror_mode": {
    "name": "ipython",
    "version": 3
   },
   "file_extension": ".py",
   "mimetype": "text/x-python",
   "name": "python",
   "nbconvert_exporter": "python",
   "pygments_lexer": "ipython3",
   "version": "3.9.7"
  }
 },
 "nbformat": 4,
 "nbformat_minor": 5
}
